{
 "cells": [
  {
   "cell_type": "markdown",
   "metadata": {},
   "source": [
    "# This notebook downloads the dataset and extracts it to the appropriate folders for training."
   ]
  },
  {
   "cell_type": "code",
   "execution_count": 2,
   "metadata": {},
   "outputs": [
    {
     "name": "stdout",
     "output_type": "stream",
     "text": [
      "1.0.43\n"
     ]
    }
   ],
   "source": [
    "import azureml.core\n",
    "import os,sys\n",
    "import numpy as np\n",
    "import json\n",
    "from urllib.request import urlretrieve\n",
    "import azureml.data\n",
    "from azureml.data.data_reference import DataReference\n",
    "print(azureml.core.VERSION)\n",
    "\n",
    "from azureml.core import Workspace, Datastore\n",
    "\n",
    "ws = Workspace.from_config()\n",
    "\n",
    "from IPython.core.interactiveshell import InteractiveShell\n",
    "InteractiveShell.ast_node_interactivity = \"all\""
   ]
  },
  {
   "cell_type": "code",
   "execution_count": 3,
   "metadata": {},
   "outputs": [],
   "source": [
    "#creates the directories required for the project.\n",
    "base_path = os.path.dirname(os.getcwd())\n",
    "data_raw_dir = os.path.join(base_path,'data/raw')\n",
    "data_proc_dir = os.path.join(base_path,'data/processed')\n",
    "data_img_dir = os.path.join(base_path,'data/processed/images')\n",
    "label_file = os.path.join(data_raw_dir,'Data_Entry_2017.csv')\n",
    "notshared_dir = os.path.join(base_path,'notshared')\n",
    "!mkdir -p {data_raw_dir }\n",
    "!mkdir -p {data_proc_dir}  \n",
    "!mkdir -p {data_img_dir}"
   ]
  },
  {
   "cell_type": "markdown",
   "metadata": {},
   "source": [
    "### The following cells download the dataset (tar.gz) from the official repo."
   ]
  },
  {
   "cell_type": "code",
   "execution_count": null,
   "metadata": {},
   "outputs": [],
   "source": [
    "\n",
    "# URLs for the zip files\n",
    "links = [\n",
    "    'https://nihcc.box.com/shared/static/vfk49d74nhbxq3nqjg0900w5nvkorp5c.gz',\n",
    "    'https://nihcc.box.com/shared/static/i28rlmbvmfjbl8p2n3ril0pptcmcu9d1.gz',\n",
    "    'https://nihcc.box.com/shared/static/f1t00wrtdk94satdfb9olcolqx20z2jp.gz',\n",
    "\t'https://nihcc.box.com/shared/static/0aowwzs5lhjrceb3qp67ahp0rd1l1etg.gz',\n",
    "    'https://nihcc.box.com/shared/static/v5e3goj22zr6h8tzualxfsqlqaygfbsn.gz',\n",
    "\t\n",
    "\t'https://nihcc.box.com/shared/static/asi7ikud9jwnkrnkj99jnpfkjdes7l6l.gz',\n",
    "\t'https://nihcc.box.com/shared/static/jn1b4mw4n6lnh74ovmcjb8y48h8xj07n.gz',\n",
    "    'https://nihcc.box.com/shared/static/tvpxmn7qyrgl0w8wfh9kqfjskv6nmm1j.gz',\n",
    "\t'https://nihcc.box.com/shared/static/upyy3ml7qdumlgk2rfcvlb9k6gvqq2pj.gz',\n",
    "\t'https://nihcc.box.com/shared/static/l6nilvfa9cg3s28tqv1qc1olm3gnz54p.gz',\n",
    "\t'https://nihcc.box.com/shared/static/hhq8fkdgvcari67vfhs7ppg2w6ni4jze.gz',\n",
    "\t'https://nihcc.box.com/shared/static/ioqwiy20ihqwyr8pf4c24eazhh281pbu.gz'\n",
    "]\n",
    "\n",
    "for idx, link in enumerate(links):\n",
    "    fn = 'images_%02d.tar.gz' % (idx+1)\n",
    "    fullfilename = os.path.join(data_raw_dir, fn)\n",
    "    print('downloading', fullfilename, '...')\n",
    "    urlretrieve(link, fullfilename)  # download the zip file\n",
    "    \n",
    "label_file_link = 'https://nihcc.app.box.com/v/ChestXray-NIHCC/file/219760887468'\n",
    "urlretrieve(label_file_link,label_file)\n",
    "print(\"Download complete. Please check the checksums\")"
   ]
  },
  {
   "cell_type": "markdown",
   "metadata": {},
   "source": [
    "### The following cells extract all the downloaded .tar.gz files into data/processed/images/"
   ]
  },
  {
   "cell_type": "code",
   "execution_count": 43,
   "metadata": {},
   "outputs": [],
   "source": [
    "import tarfile"
   ]
  },
  {
   "cell_type": "code",
   "execution_count": null,
   "metadata": {},
   "outputs": [],
   "source": [
    "# proper code to extract data into images\n",
    "for filename in os.listdir(data_raw_dir):\n",
    "    if filename.endswith(\".tar.gz\"):\n",
    "        tf=tarfile.open(os.path.join(*[data_raw_dir,filename,filename]),'w')\n",
    "        tf.extractall(data_raw_dir)\n",
    "        print(filename)"
   ]
  }
 ],
 "metadata": {
  "kernelspec": {
   "display_name": "Python 3",
   "language": "python",
   "name": "python3"
  },
  "language_info": {
   "codemirror_mode": {
    "name": "ipython",
    "version": 3
   },
   "file_extension": ".py",
   "mimetype": "text/x-python",
   "name": "python",
   "nbconvert_exporter": "python",
   "pygments_lexer": "ipython3",
   "version": "3.6.8"
  }
 },
 "nbformat": 4,
 "nbformat_minor": 1
}
